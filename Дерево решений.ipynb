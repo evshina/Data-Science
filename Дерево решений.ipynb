{
 "cells": [
  {
   "cell_type": "markdown",
   "metadata": {},
   "source": [
    "# <center> Реализация алгоритма построения дерева решений"
   ]
  },
  {
   "cell_type": "code",
   "execution_count": 1,
   "metadata": {},
   "outputs": [],
   "source": [
    "import numpy as np\n",
    "from matplotlib import pyplot as plt\n",
    "%matplotlib inline\n",
    "from sklearn.base import BaseEstimator\n",
    "from sklearn.datasets import make_classification, make_regression, load_digits, load_boston\n",
    "from sklearn.model_selection import train_test_split, GridSearchCV\n",
    "from sklearn.metrics import accuracy_score, mean_squared_error\n",
    "from sklearn.metrics import accuracy_score\n",
    "from sklearn.tree import DecisionTreeClassifier"
   ]
  },
  {
   "cell_type": "markdown",
   "metadata": {},
   "source": [
    "Зафиксируем заранее `random_state` (a.k.a. random seed). Это должно повысить вероятность полной воспроизводимости результатов, впрочем, замечено, что тем не менее небольшие флуктуации возможны (например, качества прогнозов дерева, которое мы сейчас вырастим) в случае разных ОС."
   ]
  },
  {
   "cell_type": "code",
   "execution_count": 2,
   "metadata": {},
   "outputs": [],
   "source": [
    "RANDOM_STATE = 17"
   ]
  },
  {
   "cell_type": "markdown",
   "metadata": {
    "collapsed": true
   },
   "source": [
    "**Необходимо реализовать класс `DecisionTree`**\n",
    "\n",
    "**Спецификация:**\n",
    "- класс наследуется от `sklearn.BaseEstimator`;\n",
    "- конструктор содержит следующие параметры: \n",
    "    `max_depth` - максимальная глубина дерева (по умолчанию - `numpy.inf`); \n",
    "    `min_samples_split` - минимальное число объектов в вершине, при котором происходит её разбиение (по умолчанию - 2); \n",
    "    `criterion` - критерий разбиения (для классификации - 'gini' или 'entropy'; \n",
    "    по умолчанию - 'gini');\n",
    "    \n",
    "    Функционал, значение которого максимизируется для поиска оптимального разбиения в данной вершине имеет вид\n",
    "    $$Q(X, j, t) = F(X) - \\dfrac{|X_l|}{|X|} F(X_l) - \\dfrac{|X_r|}{|X|} F(X_r),$$\n",
    "    где $X$ - выборка, находящаяся в текущей вершине, $X_l$ и $X_r$ - разбиение выборки $X$ на две части \n",
    "    по предикату $[x_j < t]$, а $F(X)$ – критерий разбиения.\n",
    "    \n",
    "   пусть $p_i$ - доля объектов $i$-го класса в выборке $X$.\n",
    "    \n",
    "    'gini': Неопределенность Джини $F(X) = 1 -\\sum_{i = 1}^K p_i^2$.\n",
    "    \n",
    "    'entropy': Энтропия $F(X) = -\\sum_{i = 1}^K p_i \\log_2(p_i)$.\n",
    "    \n",
    "- класс имеет методы `fit`, `predict` и `predict_proba`;\n",
    "- метод `fit` принимает матрицу объектов `X` и вектор ответов `y` (объекты `numpy.ndarray`) и возвращает экземпляр класса\n",
    "    `DecisionTree`, представляющий собой решающее дерево, обученное по выборке `(X, y)` с учётом заданных в конструкторе параметров; \n",
    "- метод `predict_proba` принимает матрицу объектов `X` и возвращает матрицу `P` размера `X.shape[0] x K`, где `K` - число классов, такую что $p_{ij}$ есть вероятность принадлежности объекта, заданного $i$-ой строкой матрицы X к классу $j \\in \\{1, \\dots, K\\}$.\n",
    "- метод `predict` принимает матрицу объектов и возвращает вектор предсказанных ответов -\n",
    "    наиболее многочисленный класс в листе, в который попал объект."
   ]
  },
  {
   "cell_type": "code",
   "execution_count": 3,
   "metadata": {},
   "outputs": [],
   "source": [
    "# Определим критерии качества: \n",
    "# энтропийный критерий и критерий Джини\n",
    "def entropy(y):    \n",
    "    p = [len(y[y == k]) / len(y) for k in np.unique(y)]\n",
    "    return -np.dot(p, np.log2(p))\n",
    "\n",
    "def gini(y):\n",
    "    p = [len(y[y == k]) / len(y) for k in np.unique(y)]\n",
    "    return 1 - np.dot(p, p)\n",
    "\n",
    "criteria_dict = {'entropy': entropy, 'gini': gini}"
   ]
  },
  {
   "cell_type": "markdown",
   "metadata": {},
   "source": [
    "Класс Node реализует вершину в дереве решений."
   ]
  },
  {
   "cell_type": "code",
   "execution_count": 4,
   "metadata": {},
   "outputs": [],
   "source": [
    "class Node():\n",
    "    \n",
    "    def __init__(self, feature_idx=0, threshold=0, labels=None, left=None, right=None):\n",
    "        self.feature_idx = feature_idx\n",
    "        self.threshold = threshold\n",
    "        self.labels = labels\n",
    "        self.left = left\n",
    "        self.right = right"
   ]
  },
  {
   "cell_type": "markdown",
   "metadata": {},
   "source": [
    "Определяем функцию для вычисления ответа в листе - наиболее многочисленный класс в листе"
   ]
  },
  {
   "cell_type": "code",
   "execution_count": 5,
   "metadata": {},
   "outputs": [],
   "source": [
    "def classification_leaf(y):\n",
    "    return np.bincount(y).argmax()"
   ]
  },
  {
   "cell_type": "code",
   "execution_count": 6,
   "metadata": {},
   "outputs": [],
   "source": [
    "class DecisionTree(BaseEstimator):\n",
    "    \n",
    "    def __init__(self, max_depth=np.inf, min_samples_split=2, \n",
    "                 criterion='gini', debug=False):\n",
    "        # Инициализируем объект с помощью метода set_params\n",
    "        params = {'max_depth': max_depth,\n",
    "                  'min_samples_split': min_samples_split,\n",
    "                  'criterion': criterion,\n",
    "                  'debug': debug}\n",
    "        \n",
    "        self.set_params(**params)\n",
    "        \n",
    "        if self.debug:\n",
    "            print(\"\\nDecisionTree params:\")\n",
    "            print(\"max_depth = {}, min_samples_split = {}, criterion = {}\\n\"\\\n",
    "                  .format(max_depth, min_samples_split, criterion))\n",
    "            \n",
    "    def set_params(self, **params):\n",
    "        super(DecisionTree, self).set_params(**params)\n",
    "        \n",
    "        self._criterion_function = criteria_dict[self.criterion]\n",
    "        \n",
    "        if self.criterion in ['variance', 'mad_median']:\n",
    "            self._leaf_value = regression_leaf\n",
    "        else:\n",
    "            self._leaf_value = classification_leaf\n",
    "        \n",
    "        return self\n",
    "            \n",
    "    \n",
    "    # Функционал, на основе которого осуществляется разбиение выборки на две части\n",
    "    def _functional(self, X, y, feature_idx, threshold):\n",
    "        mask = X[:, feature_idx] < threshold\n",
    "        n_obj = X.shape[0]\n",
    "        n_left = np.sum(mask)\n",
    "        n_right = n_obj - n_left    \n",
    "        if n_left > 0 and n_right > 0:\n",
    "            return self._criterion_function(y) - (n_left / n_obj) * \\\n",
    "                    self._criterion_function(y[mask]) - (n_right / n_obj) * \\\n",
    "                    self._criterion_function(y[~mask])\n",
    "        else:\n",
    "            return 0\n",
    "        \n",
    "    # Рекурсивная процедура построения дерева решений \n",
    "    def _build_tree(self, X, y, depth=1):\n",
    "        max_functional = 0\n",
    "        best_feature_idx = None\n",
    "        best_threshold = None\n",
    "        n_samples, n_features = X.shape     \n",
    "        \n",
    "        \n",
    "        # Если все объекты в текущей вершине имеют одинаковые значения ответов, \n",
    "        # то значение функционала также будет = 0 при всех разбиениях. \n",
    "        # Значит, в этом случае вершина - лист, поэтому чтобы не производить\n",
    "        # лишних вычислений, делаем эту проверку перед основным циклом.\n",
    "        if len(np.unique(y)) == 1:\n",
    "            return Node(labels=y)\n",
    "            \n",
    "        # Если критерий останова не выполнен, то ищем оптимальное разбиение\n",
    "        if depth < self.max_depth and n_samples >= self.min_samples_split:\n",
    "            if self.debug:\n",
    "                print(\"depth = {}, n_samples = {}\".format(depth, n_samples))\n",
    "                \n",
    "            # Перебираем все признаки...\n",
    "            for feature_idx in range(n_features):\n",
    "                # и все пороги для фиксированного признака\n",
    "                threshold_values = np.unique(X[:, feature_idx])    \n",
    "                functional_values = [self._functional(X, y, feature_idx, threshold) \n",
    "                                     for threshold in threshold_values]\n",
    "                \n",
    "                best_threshold_idx = np.nanargmax(functional_values)\n",
    "                    \n",
    "                if functional_values[best_threshold_idx] > max_functional:\n",
    "                    max_functional = functional_values[best_threshold_idx]\n",
    "                    best_threshold = threshold_values[best_threshold_idx]\n",
    "                    best_feature_idx = feature_idx\n",
    "                    best_mask = X[:, feature_idx] < best_threshold\n",
    "    \n",
    "        if best_feature_idx is not None:\n",
    "            if self.debug:\n",
    "                print(\"best feature = {}, best threshold = {}\"\\\n",
    "                      .format(best_feature_idx, best_threshold))\n",
    "            # Если разбиение произошло, идем дальше рекурсивно...\n",
    "            return Node(feature_idx=best_feature_idx, threshold=best_threshold, \n",
    "                        left=self._build_tree(X[best_mask, :], y[best_mask], depth + 1),\n",
    "                        right=self._build_tree(X[~best_mask, :], y[~best_mask], depth + 1))\n",
    "        else:\n",
    "            # иначе, наша вершина - лист, выходим из рекурсии\n",
    "            return Node(labels=y)\n",
    "    \n",
    "    \n",
    "    def fit(self, X, y):\n",
    "        # В случае задачи классификации запоминаем число классов\n",
    "        if self.criterion in ['gini', 'entropy']:\n",
    "            self._n_classes = len(np.unique(y))\n",
    "            \n",
    "        self.root = self._build_tree(X, y)\n",
    "        \n",
    "        return self\n",
    "    \n",
    "    # Предсказание ответа для одного объекта\n",
    "    def _predict_object(self, x, node=None):\n",
    "        \n",
    "        node = self.root\n",
    "        # Идём от корня, пока не придём в лист\n",
    "        while node.labels is None:\n",
    "            if x[node.feature_idx] < node.threshold:\n",
    "                node = node.left\n",
    "            else:\n",
    "                node = node.right\n",
    "        # Вычисляем ответ\n",
    "        return self._leaf_value(node.labels)\n",
    "\n",
    "        \n",
    "    def predict(self, X):\n",
    "        return np.array([self._predict_object(x) for x in X]) \n",
    "    \n",
    "    def _predict_proba_object(self, x, node=None):\n",
    "        \n",
    "        node = self.root\n",
    "        # Идём от корня, пока не придём в лист\n",
    "        while node.labels is None:\n",
    "            if x[node.feature_idx] < node.threshold:\n",
    "                node = node.left\n",
    "            else:\n",
    "                node = node.right\n",
    "        # Вычисляем вероятности принадлежности к классам\n",
    "        return [len(node.labels[node.labels == k]) / \\\n",
    "                len(node.labels) for k in range(self._n_classes)]\n",
    "        \n",
    "        \n",
    "    def predict_proba(self, X):\n",
    "        return np.array([self._predict_proba_object(x) for x in X])"
   ]
  },
  {
   "cell_type": "markdown",
   "metadata": {},
   "source": [
    "## Тестирование реализованного алгоритма"
   ]
  },
  {
   "cell_type": "markdown",
   "metadata": {},
   "source": [
    "Протестируем наш класс на искусственной выборке. Убедимся, что `predict_proba` работает правильно. "
   ]
  },
  {
   "cell_type": "code",
   "execution_count": 20,
   "metadata": {},
   "outputs": [
    {
     "name": "stdout",
     "output_type": "stream",
     "text": [
      "Accuracy: 0.85\n",
      "predict_proba works!\n"
     ]
    },
    {
     "data": {
      "image/png": "[encoded data removed]",
      "text/plain": [
       "<matplotlib.figure.Figure at 0xf0a350>"
      ]
     },
     "metadata": {},
     "output_type": "display_data"
    }
   ],
   "source": [
    "X, y = make_classification(n_features=2, n_redundant=0, n_samples=400,\n",
    "                          random_state=RANDOM_STATE)\n",
    "\n",
    "X_train, X_test, y_train, y_test = train_test_split(X, y, test_size=0.3,\n",
    "                                                   random_state=RANDOM_STATE)\n",
    "#\n",
    "\n",
    "clf = DecisionTree(max_depth=4, criterion='gini')\n",
    "clf.fit(X_train, y_train)\n",
    "\n",
    "y_pred = clf.predict(X_test)\n",
    "prob_pred = clf.predict_proba(X_test)\n",
    "accuracy = accuracy_score(y_test, y_pred)\n",
    "\n",
    "print(\"Accuracy:\", accuracy)\n",
    "\n",
    "if (sum(np.argmax(prob_pred,axis=1) - y_pred) == 0):\n",
    "    print('predict_proba works!')\n",
    "\n",
    "plt.suptitle(\"Accuracy = {0:.2f}\".format(accuracy))\n",
    "plt.subplot(121)\n",
    "plt.scatter(X_test[:, 0], X_test[:, 1], c=y_pred, cmap=plt.cm.winter)\n",
    "plt.title('Predicted class labels')\n",
    "plt.axis('equal')\n",
    "plt.subplot(122)\n",
    "plt.scatter(X_test[:, 0], X_test[:, 1], c=y_test, cmap=plt.cm.winter)\n",
    "plt.title('True class labels')\n",
    "plt.axis('equal');"
   ]
  },
  {
   "cell_type": "code",
   "execution_count": null,
   "metadata": {},
   "outputs": [],
   "source": []
  }
 ],
 "metadata": {
  "kernelspec": {
   "display_name": "Python 3",
   "language": "python",
   "name": "python3"
  },
  "language_info": {
   "codemirror_mode": {
    "name": "ipython",
    "version": 3
   },
   "file_extension": ".py",
   "mimetype": "text/x-python",
   "name": "python",
   "nbconvert_exporter": "python",
   "pygments_lexer": "ipython3",
   "version": "3.6.2"
  },
  "name": "lesson4_part2_Decision_trees.ipynb"
 },
 "nbformat": 4,
 "nbformat_minor": 1
}
